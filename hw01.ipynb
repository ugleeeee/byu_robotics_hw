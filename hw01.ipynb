{
 "cells": [
  {
   "cell_type": "markdown",
   "metadata": {},
   "source": [
    "# HW 1: Introduction and Setup\n",
    "* Strongly consider completing the tutorial here (unless you already have significant experience with VS Code and Python) - https://code.visualstudio.com/docs/python/python-tutorial\n",
    "* Make sure to have set up your Python environment and installation of Python libraries correctly (see \"requirements.txt\" file in this folder, and this link for more about environments in VS Code - https://code.visualstudio.com/docs/python/environments#_creating-environments). \n",
    "* Run this notebook and check the output\n",
    "* If things are set up correctly, you should see two coordinate frames appear in a new window.\n",
    "* Play with these values a little to start to get some intuition for what these matrices mean."
   ]
  },
  {
   "cell_type": "code",
   "execution_count": 19,
   "metadata": {},
   "outputs": [
    {
     "name": "stdout",
     "output_type": "stream",
     "text": [
      "Error while drawing item <pyqtgraph.opengl.items.GLMeshItem.GLMeshItem object at 0x000001FF64B46BA0>.\n"
     ]
    },
    {
     "ename": "GLError",
     "evalue": "GLError(\n\terr = 1282,\n\tdescription = b'invalid operation',\n\tbaseOperation = glMatrixMode,\n\tcArguments = (GL_MODELVIEW,)\n)",
     "output_type": "error",
     "traceback": [
      "\u001b[31m---------------------------------------------------------------------------\u001b[39m",
      "\u001b[31mGLError\u001b[39m                                   Traceback (most recent call last)",
      "\u001b[36mFile \u001b[39m\u001b[32mc:\\Users\\AsherWebb\\Documents\\Git\\byu_robotics_hw\\.venv\\Lib\\site-packages\\pyqtgraph\\opengl\\GLViewWidget.py:242\u001b[39m, in \u001b[36mGLViewMixin.drawItemTree\u001b[39m\u001b[34m(self, item, useItemNames)\u001b[39m\n\u001b[32m    241\u001b[39m     glMultMatrixf(np.array(tr.data(), dtype=np.float32))\n\u001b[32m--> \u001b[39m\u001b[32m242\u001b[39m     \u001b[38;5;28;43mself\u001b[39;49m\u001b[43m.\u001b[49m\u001b[43mdrawItemTree\u001b[49m\u001b[43m(\u001b[49m\u001b[43mi\u001b[49m\u001b[43m,\u001b[49m\u001b[43m \u001b[49m\u001b[43museItemNames\u001b[49m\u001b[43m=\u001b[49m\u001b[43museItemNames\u001b[49m\u001b[43m)\u001b[49m\n\u001b[32m    243\u001b[39m \u001b[38;5;28;01mfinally\u001b[39;00m:\n",
      "\u001b[36mFile \u001b[39m\u001b[32mc:\\Users\\AsherWebb\\Documents\\Git\\byu_robotics_hw\\.venv\\Lib\\site-packages\\pyqtgraph\\opengl\\GLViewWidget.py:235\u001b[39m, in \u001b[36mGLViewMixin.drawItemTree\u001b[39m\u001b[34m(self, item, useItemNames)\u001b[39m\n\u001b[32m    234\u001b[39m     \u001b[38;5;28;01mfinally\u001b[39;00m:\n\u001b[32m--> \u001b[39m\u001b[32m235\u001b[39m         \u001b[43mglPopAttrib\u001b[49m\u001b[43m(\u001b[49m\u001b[43m)\u001b[49m\n\u001b[32m    236\u001b[39m \u001b[38;5;28;01melse\u001b[39;00m:\n",
      "\u001b[36mFile \u001b[39m\u001b[32mc:\\Users\\AsherWebb\\Documents\\Git\\byu_robotics_hw\\.venv\\Lib\\site-packages\\OpenGL\\error.py:230\u001b[39m, in \u001b[36m_ErrorChecker.glCheckError\u001b[39m\u001b[34m(self, result, baseOperation, cArguments, *args)\u001b[39m\n\u001b[32m    229\u001b[39m \u001b[38;5;28;01mif\u001b[39;00m err != \u001b[38;5;28mself\u001b[39m._noErrorResult:\n\u001b[32m--> \u001b[39m\u001b[32m230\u001b[39m     \u001b[38;5;28;01mraise\u001b[39;00m \u001b[38;5;28mself\u001b[39m._errorClass(\n\u001b[32m    231\u001b[39m         err,\n\u001b[32m    232\u001b[39m         result,\n\u001b[32m    233\u001b[39m         cArguments = cArguments,\n\u001b[32m    234\u001b[39m         baseOperation = baseOperation,\n\u001b[32m    235\u001b[39m     )\n\u001b[32m    236\u001b[39m \u001b[38;5;28;01mreturn\u001b[39;00m result\n",
      "\u001b[31mGLError\u001b[39m: GLError(\n\terr = 1282,\n\tdescription = b'invalid operation',\n\tbaseOperation = glPopAttrib,\n\tcArguments = ()\n)",
      "\nDuring handling of the above exception, another exception occurred:\n",
      "\u001b[31mGLError\u001b[39m                                   Traceback (most recent call last)",
      "\u001b[36mFile \u001b[39m\u001b[32mc:\\Users\\AsherWebb\\Documents\\Git\\byu_robotics_hw\\.venv\\Lib\\site-packages\\pyqtgraph\\opengl\\GLViewWidget.py:210\u001b[39m, in \u001b[36mGLViewMixin.paintGL\u001b[39m\u001b[34m(self, region, viewport, useItemNames)\u001b[39m\n\u001b[32m    208\u001b[39m glClearColor(*bgcolor)\n\u001b[32m    209\u001b[39m glClear( GL_DEPTH_BUFFER_BIT | GL_COLOR_BUFFER_BIT )\n\u001b[32m--> \u001b[39m\u001b[32m210\u001b[39m \u001b[38;5;28;43mself\u001b[39;49m\u001b[43m.\u001b[49m\u001b[43mdrawItemTree\u001b[49m\u001b[43m(\u001b[49m\u001b[43museItemNames\u001b[49m\u001b[43m=\u001b[49m\u001b[43museItemNames\u001b[49m\u001b[43m)\u001b[49m\n",
      "\u001b[36mFile \u001b[39m\u001b[32mc:\\Users\\AsherWebb\\Documents\\Git\\byu_robotics_hw\\.venv\\Lib\\site-packages\\pyqtgraph\\opengl\\GLViewWidget.py:244\u001b[39m, in \u001b[36mGLViewMixin.drawItemTree\u001b[39m\u001b[34m(self, item, useItemNames)\u001b[39m\n\u001b[32m    242\u001b[39m     \u001b[38;5;28mself\u001b[39m.drawItemTree(i, useItemNames=useItemNames)\n\u001b[32m    243\u001b[39m \u001b[38;5;28;01mfinally\u001b[39;00m:\n\u001b[32m--> \u001b[39m\u001b[32m244\u001b[39m     \u001b[43mglMatrixMode\u001b[49m\u001b[43m(\u001b[49m\u001b[43mGL_MODELVIEW\u001b[49m\u001b[43m)\u001b[49m\n\u001b[32m    245\u001b[39m     glPopMatrix()\n",
      "\u001b[36mFile \u001b[39m\u001b[32mc:\\Users\\AsherWebb\\Documents\\Git\\byu_robotics_hw\\.venv\\Lib\\site-packages\\OpenGL\\error.py:230\u001b[39m, in \u001b[36m_ErrorChecker.glCheckError\u001b[39m\u001b[34m(self, result, baseOperation, cArguments, *args)\u001b[39m\n\u001b[32m    228\u001b[39m err = \u001b[38;5;28mself\u001b[39m._currentChecker()\n\u001b[32m    229\u001b[39m \u001b[38;5;28;01mif\u001b[39;00m err != \u001b[38;5;28mself\u001b[39m._noErrorResult:\n\u001b[32m--> \u001b[39m\u001b[32m230\u001b[39m     \u001b[38;5;28;01mraise\u001b[39;00m \u001b[38;5;28mself\u001b[39m._errorClass(\n\u001b[32m    231\u001b[39m         err,\n\u001b[32m    232\u001b[39m         result,\n\u001b[32m    233\u001b[39m         cArguments = cArguments,\n\u001b[32m    234\u001b[39m         baseOperation = baseOperation,\n\u001b[32m    235\u001b[39m     )\n\u001b[32m    236\u001b[39m \u001b[38;5;28;01mreturn\u001b[39;00m result\n",
      "\u001b[31mGLError\u001b[39m: GLError(\n\terr = 1282,\n\tdescription = b'invalid operation',\n\tbaseOperation = glMatrixMode,\n\tcArguments = (GL_MODELVIEW,)\n)"
     ]
    }
   ],
   "source": [
    "# this cell will fail if you haven't correctly installed the libraries in the \"requiremnts.txt\" file\n",
    "import numpy as np\n",
    "import time\n",
    "from visualization import VizScene\n",
    "\n",
    "Tw_to_frame1 = np.eye(4)\n",
    "\n",
    "viz = VizScene()\n",
    "viz.add_frame(np.eye(4), label='world', axes_label='w')\n",
    "viz.add_frame(Tw_to_frame1, label='frame1', axes_label='1')\n",
    "\n",
    "time_to_run = 10\n",
    "refresh_rate = 60\n",
    "t = 0\n",
    "start = time.time()\n",
    "while t < time_to_run:\n",
    "    t = time.time() - start\n",
    "\n",
    "    # you can play with omega and p to see how they affect the frame\n",
    "    omega = np.pi/2\n",
    "    R = np.array([[np.cos(omega*t), -np.sin(omega*t), 0],\n",
    "                  [np.sin(omega*t), np.cos(omega*t), 0],\n",
    "                  [0, 0, 1]])\n",
    "    p = np.array([1, 0, 3])\n",
    "\n",
    "    Tw_to_frame1[:3,:3] = R\n",
    "    Tw_to_frame1[:3,-1] = p\n",
    "    viz.update(As=[np.eye(4), Tw_to_frame1])\n",
    "\n",
    "viz.close_viz() # could use viz.hold() to keep it open until manually closed"
   ]
  }
 ],
 "metadata": {
  "kernelspec": {
   "display_name": ".venv (3.12.10)",
   "language": "python",
   "name": "python3"
  },
  "language_info": {
   "codemirror_mode": {
    "name": "ipython",
    "version": 3
   },
   "file_extension": ".py",
   "mimetype": "text/x-python",
   "name": "python",
   "nbconvert_exporter": "python",
   "pygments_lexer": "ipython3",
   "version": "3.12.10"
  },
  "orig_nbformat": 4
 },
 "nbformat": 4,
 "nbformat_minor": 2
}
