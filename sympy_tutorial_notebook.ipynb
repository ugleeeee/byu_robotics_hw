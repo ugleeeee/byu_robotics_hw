{
    "cells": [
        {
            "cell_type": "markdown",
            "metadata": {},
            "source": [
                "# Sympy Guided Tour and Tutorial \n",
                "\n",
                "For ME EN 537 (Robotics), written by John Morrell, August 21, 2021 (Tarnarmour@gmail.com). Modified slightly and moved to Jupyter notebook by Marc Killpack, Sept 6, 2021, and Sept 11, 2023. \n",
                "\n",
                "## Introduction\n",
                "\n",
                "Sympy is a really powerful library for doing symbolic math in Python. Sympy can be used to solve equations,\n",
                "do logical operations, define and find derivatives of functions, generate python or C code, and much, much \n",
                "more. We will be using Sympy for most of the coding homework in the class. We will only be using Sympy to do\n",
                "fairly basic things, but this tutorial should still be useful for anyone new to Sympy or symbolic solvers in \n",
                "general.\n",
                "\n",
                "As a disclaimer, I am no expert in Sympy. This tutorial is based on the things I learned or looked up while \n",
                "working on previous projects and the coding assignments for this class. There may be some errors or inefficient\n",
                "solutions to things throughout, and you are welcome to email me if you find any. I'll try to keep things updated\n",
                "and useful."
            ]
        },
        {
            "cell_type": "markdown",
            "metadata": {},
            "source": [
                "## Installation\n",
                "\n",
                "The first step is to install sympy. **If you are using the VM provided to the class, sympy will already be installed\n",
                "and ready to go.** If you are using your own machine, you can install sympy through the terminal using the pip\n",
                "tool. Run the following in your terminal:\n",
                "\n",
                ">pip install sympy\n",
                "\n",
                "You may need to use pip3 instead of pip if you have multiple installations of python on your machine. Or the installation command may be different depending on your operating system. Feel free to look up more detailed instructions.\n",
                "\n",
                "Now that sympy is installed you should be able to include it in any python script you write."
            ]
        },
        {
            "cell_type": "code",
            "execution_count": 1,
            "metadata": {},
            "outputs": [],
            "source": [
                "import sympy as sp"
            ]
        },
        {
            "cell_type": "markdown",
            "metadata": {},
            "source": [
                "You might also consider importing some of the more common functions directly for convenience, for example:"
            ]
        },
        {
            "cell_type": "code",
            "execution_count": 2,
            "metadata": {},
            "outputs": [],
            "source": [
                "from sympy import sin, cos, sqrt, pprint"
            ]
        },
        {
            "cell_type": "markdown",
            "metadata": {},
            "source": [
                "Personally I prefer to always be able to specify explicitly which namespace I'm using for things like this."
            ]
        },
        {
            "cell_type": "markdown",
            "metadata": {},
            "source": [
                "## Sympy Symbols \n",
                "\n",
                "Sympy uses a few custom data types. The most basic of these is the sympy.Symbol object. A symbol is basically\n",
                "a variable with an attached string used for printing. We create them using the symbols function:"
            ]
        },
        {
            "cell_type": "code",
            "execution_count": 3,
            "metadata": {},
            "outputs": [],
            "source": [
                "a = sp.symbols('a')"
            ]
        },
        {
            "cell_type": "markdown",
            "metadata": {},
            "source": [
                "Multiple symbols can be made simultaneously as well:"
            ]
        },
        {
            "cell_type": "code",
            "execution_count": 4,
            "metadata": {},
            "outputs": [],
            "source": [
                "b, c, d = sp.symbols('b, c, d')"
            ]
        },
        {
            "cell_type": "markdown",
            "metadata": {},
            "source": [
                "Symbols act like variables in the mathematical sense, not the programming sense. We don't store numbers in these\n",
                "symbols, we use them to make algebraic expressions or functions. For example:"
            ]
        },
        {
            "cell_type": "code",
            "execution_count": 5,
            "metadata": {},
            "outputs": [
                {
                    "name": "stdout",
                    "output_type": "stream",
                    "text": [
                        "2*a + 3*b**2 + sqrt(c)\n"
                    ]
                }
            ],
            "source": [
                "expr = 2*a + 3*b**2 + sp.sqrt(c)\n",
                "print(expr)"
            ]
        },
        {
            "cell_type": "markdown",
            "metadata": {},
            "source": [
                "**Don't try to assign numbers to things you previously defined as symbols!!!**\n",
                "(e.g. a = 3)\n",
                "\n",
                "Instead, if we want to plug in numbers to a symbolic expression, we use the **subs** function."
            ]
        },
        {
            "cell_type": "code",
            "execution_count": 6,
            "metadata": {},
            "outputs": [
                {
                    "name": "stdout",
                    "output_type": "stream",
                    "text": [
                        "3*b**2 + sqrt(c) + 6\n",
                        "5*b**2 + sqrt(c)\n",
                        "sqrt(3) + 14\n"
                    ]
                }
            ],
            "source": [
                "substituted_expr = expr.subs(a, 3)\n",
                "print(substituted_expr)\n",
                "substituted_expr = expr.subs(a, b**2)  # We can substitute other symbols like this too, not just numbers\n",
                "print(substituted_expr)\n",
                "substituted_expr = expr.subs([(a, 1), (b, 2), (c, 3)])  # We can substitute multiple things at once by passing a list of symbol-value pairs in\n",
                "print(substituted_expr)"
            ]
        },
        {
            "cell_type": "markdown",
            "metadata": {},
            "source": [
                "You should see that the last print gave us \"sqrt(3) + 14\"; sympy evaluated the expression but did not return an \n",
                "approximate decimal answer, which we might need. To get this we use the .evalf() method or the N() function;"
            ]
        },
        {
            "cell_type": "code",
            "execution_count": 7,
            "metadata": {},
            "outputs": [
                {
                    "name": "stdout",
                    "output_type": "stream",
                    "text": [
                        "15.7320508075689\n",
                        "15.7320508075689\n"
                    ]
                }
            ],
            "source": [
                "evaluated_expr = substituted_expr.evalf()\n",
                "print(evaluated_expr)\n",
                "print(sp.N(substituted_expr))"
            ]
        },
        {
            "cell_type": "markdown",
            "metadata": {},
            "source": [
                "You can pass a precision to the evalf and N functions if you don't want to have 15 decimals displayed every time \n",
                "you print like this:"
            ]
        },
        {
            "cell_type": "code",
            "execution_count": 8,
            "metadata": {},
            "outputs": [
                {
                    "name": "stdout",
                    "output_type": "stream",
                    "text": [
                        "15.73\n"
                    ]
                }
            ],
            "source": [
                "print(sp.N(evaluated_expr, 4))  # prints with 4 decimals of precision"
            ]
        },
        {
            "cell_type": "markdown",
            "metadata": {},
            "source": [
                "It is important to remember that sympy symbols will work with just about any python function or operation; if a class \n",
                "or function does not have a defined rule for how to treat sympy variables it will break.\n",
                "\n",
                "For example, the following line would throw an error when running, because numpy does not have a definition for how to take the sin of a sympy symbol (numpy is a linear algebra library in Python that is very useful, but will likely be unnecessary in this class due to our use of Sympy instead):\n",
                "> import numpy as np\n",
                "\n",
                "> np.sin(a)\n",
                "\n",
                "If you want to take the sin of a symbol, use the sympy sin function instead. This is also true for things like sqrt, absolute values, etc."
            ]
        },
        {
            "cell_type": "code",
            "execution_count": 9,
            "metadata": {},
            "outputs": [
                {
                    "name": "stdout",
                    "output_type": "stream",
                    "text": [
                        "sin(a)\n"
                    ]
                }
            ],
            "source": [
                "print(sp.sin(a))"
            ]
        },
        {
            "cell_type": "markdown",
            "metadata": {},
            "source": [
                "Symbols will be useful in this class because we will be defining the position of robot arms in terms of joint angles.\n",
                "If we use symbols as the joint angles, we can see symbolic solutions for the robot arm position just by passing the \n",
                "symbols in the rest of our kinematic equations."
            ]
        },
        {
            "cell_type": "markdown",
            "metadata": {},
            "source": [
                "## Matrices\n",
                "\n",
                "A lot of what we do in the class will involve rotation matrices and 4x4 homogeneous transformation matrices. We will\n",
                "use the sympy Matrix object to represent these objects. If you have used numpy before, sympy Matrices behave in \n",
                "very similar ways."
            ]
        },
        {
            "cell_type": "code",
            "execution_count": 10,
            "metadata": {},
            "outputs": [
                {
                    "name": "stdout",
                    "output_type": "stream",
                    "text": [
                        "Matrix([[a, b], [c, 5]])\n"
                    ]
                }
            ],
            "source": [
                "M = sp.Matrix([[a, b], [c, 5]])\n",
                "print(M)"
            ]
        },
        {
            "cell_type": "markdown",
            "metadata": {},
            "source": [
                "Printing these matrices can be a bit difficult to read, especially as they get larger. Sympy has a very capable and\n",
                "versatile printing tool. We will be using it to print more complicated expressions and matrices, though it's not\n",
                "really necessary for anything in the class. It will make your life easier if you use it, though. To use it, just call\n",
                "the sympy pprint (short for pretty_print) function:"
            ]
        },
        {
            "cell_type": "code",
            "execution_count": 11,
            "metadata": {},
            "outputs": [
                {
                    "name": "stdout",
                    "output_type": "stream",
                    "text": [
                        "⎡a  b⎤\n",
                        "⎢    ⎥\n",
                        "⎣c  5⎦\n"
                    ]
                }
            ],
            "source": [
                "sp.pprint(M)  # This should make reading matrices much easier"
            ]
        },
        {
            "cell_type": "markdown",
            "metadata": {},
            "source": [
                "We can multiply sympy matrices together using the @ operator, much like how numpy works (or MATLAB for that matter if you aren't familiar with numpy)"
            ]
        },
        {
            "cell_type": "code",
            "execution_count": 12,
            "metadata": {},
            "outputs": [
                {
                    "name": "stdout",
                    "output_type": "stream",
                    "text": [
                        "⎡ a + 2⋅c    b + 10 ⎤\n",
                        "⎢                   ⎥\n",
                        "⎣3⋅a + 4⋅c  3⋅b + 20⎦\n"
                    ]
                }
            ],
            "source": [
                "D = sp.Matrix([[1, 2], [3, 4]])\n",
                "sp.pprint(D @ M)"
            ]
        },
        {
            "cell_type": "markdown",
            "metadata": {},
            "source": [
                "We can access specific elements or sections of matrices using the standard python slicing rules (which is very similar to indexing in MATLAB to access a specific matrix or array value). If you're not familiar with these, you can look them up as there are many good explanations for them online. Sympy matrices work the same as numpy arrays in this aspect. However, the principle is simple enough that you can likely figure it out by looking at examples below and in the homework. "
            ]
        },
        {
            "cell_type": "code",
            "execution_count": 13,
            "metadata": {},
            "outputs": [
                {
                    "name": "stdout",
                    "output_type": "stream",
                    "text": [
                        "⎡b⎤\n",
                        "⎢ ⎥\n",
                        "⎣5⎦\n"
                    ]
                }
            ],
            "source": [
                "part = M[0:2, 1]\n",
                "sp.pprint(part)"
            ]
        },
        {
            "cell_type": "markdown",
            "metadata": {},
            "source": [
                "We can still use subs and evalf just like before here as well"
            ]
        },
        {
            "cell_type": "code",
            "execution_count": 14,
            "metadata": {},
            "outputs": [
                {
                    "name": "stdout",
                    "output_type": "stream",
                    "text": [
                        "⎡1  -3⎤\n",
                        "⎢     ⎥\n",
                        "⎣π  5 ⎦\n",
                        "⎡      1.0         -3.0⎤\n",
                        "⎢                      ⎥\n",
                        "⎣3.14159265358979  5.0 ⎦\n"
                    ]
                }
            ],
            "source": [
                "subs_M = M.subs([(a, 1), (b, -3), (c, sp.pi)])\n",
                "sp.pprint(subs_M)\n",
                "sp.pprint(sp.N(subs_M))"
            ]
        },
        {
            "cell_type": "markdown",
            "metadata": {},
            "source": [
                "## Solving Equations\n",
                "\n",
                "One of the most useful but simple things to use sympy for is solving equations. To do so, we use the solve function.\n",
                "Simply pass in an expression and a symbol to solve for. The solve function assumes that the expression is set equal\n",
                "to 0, so to solve 2*a = 5 for a, we would rearrange like so:"
            ]
        },
        {
            "cell_type": "code",
            "execution_count": 15,
            "metadata": {},
            "outputs": [
                {
                    "name": "stdout",
                    "output_type": "stream",
                    "text": [
                        "[5/2]\n"
                    ]
                }
            ],
            "source": [
                "expr = 2 * a - 5\n",
                "sol = sp.solve(expr, a)  # to use solve, pass in an expression or expressions and a symbol or symbols to solve for\n",
                "print(sol)"
            ]
        },
        {
            "cell_type": "markdown",
            "metadata": {},
            "source": [
                "There are a lot of problems that can show up when solving things. Some are fairly obvious; if an expression has no\n",
                "solution, solve will return an empty solution:"
            ]
        },
        {
            "cell_type": "code",
            "execution_count": 16,
            "metadata": {},
            "outputs": [
                {
                    "name": "stdout",
                    "output_type": "stream",
                    "text": [
                        "[]\n"
                    ]
                }
            ],
            "source": [
                "sol = sp.solve(sp.sqrt(a) + 5, a)\n",
                "print(sol)"
            ]
        },
        {
            "cell_type": "markdown",
            "metadata": {},
            "source": [
                "Some can be more complicated. In the expression below, we get no solution because the solver has assumed that b is \n",
                "positive, which would lead to no solution."
            ]
        },
        {
            "cell_type": "code",
            "execution_count": 17,
            "metadata": {},
            "outputs": [
                {
                    "name": "stdout",
                    "output_type": "stream",
                    "text": [
                        "[]\n"
                    ]
                }
            ],
            "source": [
                "sol = sp.solve(sp.sqrt(a) + b, a)\n",
                "print(sol)"
            ]
        },
        {
            "cell_type": "markdown",
            "metadata": {},
            "source": [
                "When we define symbols, we can give them assumptions like positive, negative, real, imaginary, etc. This can help\n",
                "the solver succeed, especially on more complicated expressions."
            ]
        },
        {
            "cell_type": "code",
            "execution_count": 18,
            "metadata": {},
            "outputs": [
                {
                    "name": "stdout",
                    "output_type": "stream",
                    "text": [
                        "[b**2]\n",
                        "{a: -4*b/5 - 3*c/5}\n"
                    ]
                }
            ],
            "source": [
                "b = sp.Symbol('b', positive=False)\n",
                "sol = sp.solve(sp.sqrt(a) + b, a)\n",
                "print(sol)\n",
                "\n",
                "expr = [5*a + 4*b + 3*c, 3*b - c]  # here I'm using a list of expressions instead of a single expression\n",
                "sol = sp.solve(expr, a)  # if you don't give a symbol to solve for, sympy will try to solve for all symbols\n",
                "print(sol)  # sol is a dictionary of solutions for a and b"
            ]
        },
        {
            "cell_type": "markdown",
            "metadata": {},
            "source": [
                "## More Advanced Printing\n",
                "\n",
                "If you have installed the required rendering tools (in extensions, it's called \"Jupyter Notebook Renderers\"), we can also use latex to print any complicated expressions to the screen (or even to file). Below is an example of this. This is a complex example of calculating kinetic and potential energy, and then coming up with the equations of motion. It is one of the main case studies in the controls class, but is also just useful to show how we can disply or render complicated symbolic expressions, or export them as latex code for a report or paper.  "
            ]
        },
        {
            "cell_type": "code",
            "execution_count": 19,
            "metadata": {},
            "outputs": [
                {
                    "name": "stdout",
                    "output_type": "stream",
                    "text": [
                        "\n",
                        "\n",
                        "\n",
                        "\n",
                        " Euler-Lagrange equations for case study A:\n"
                    ]
                },
                {
                    "data": {
                        "text/latex": [
                            "$\\displaystyle \\ell m \\left(0.333333333333333 \\ell \\frac{d^{2}}{d t^{2}} \\theta{\\left(t \\right)} + 0.5 g \\cos{\\left(\\theta{\\left(t \\right)} \\right)}\\right)$"
                        ],
                        "text/plain": [
                            "ell*m*(0.333333333333333*ell*Derivative(theta(t), (t, 2)) + 0.5*g*cos(theta(t)))"
                        ]
                    },
                    "metadata": {},
                    "output_type": "display_data"
                },
                {
                    "data": {
                        "text/latex": [
                            "$\\displaystyle \\ell m \\left(0.333333333333333 \\ell \\ddot{\\theta} + 0.5 g \\cos{\\left(\\theta \\right)}\\right)$"
                        ],
                        "text/plain": [
                            "<IPython.core.display.Math object>"
                        ]
                    },
                    "metadata": {},
                    "output_type": "display_data"
                },
                {
                    "data": {
                        "text/plain": [
                            "'\\\\ell m \\\\left(0.333333333333333 \\\\ell \\\\ddot{\\\\theta} + 0.5 g \\\\cos{\\\\left(\\\\theta \\\\right)}\\\\right)'"
                        ]
                    },
                    "execution_count": 19,
                    "metadata": {},
                    "output_type": "execute_result"
                }
            ],
            "source": [
                "from IPython.display import Math, display\n",
                "from sympy.physics.vector import dynamicsymbols\n",
                "from sympy.physics.vector.printing import vpprint, vlatex\n",
                "\n",
                "# defining all necessary mathematical variables as sympy \"symbols\" so that we can use them accordingly\n",
                "t, m, ell, g = sp.symbols('t, m, ell, g')\n",
                "\n",
                "# define theta and theta_dot as functions of time so we can take the time derivative\n",
                "theta = dynamicsymbols('theta')\n",
                "theta_dot = theta.diff(t)\n",
                "\n",
                "#calculate the kinetic energy\n",
                "K = 1/2.0*m*ell**2/3*theta_dot**2\n",
                "\n",
                "#calculate the potential energy\n",
                "P = m*g*ell/2.0*sp.sin(theta)\n",
                "\n",
                "#calculate the lagrangian\n",
                "L = K-P\n",
                "\n",
                "#calculate the Euler-Lagrange equations of motion for theta variable - this is something you have not\n",
                "# learned how to do yet in 537, but would learn at the start of the controls class. \n",
                "EL_case_studyA_v2 = sp.simplify((L.diff(theta_dot)).diff(t) - L.diff(theta))\n",
                "\n",
                "\n",
                "# this is the part we probably care about (since it's showing how we can print the resulting expressions)\n",
                "print(\"\\n\\n\\n\\n Euler-Lagrange equations for case study A:\")\n",
                "display(EL_case_studyA_v2)\n",
                "\n",
                "# to see the dot notation:\n",
                "display(Math(vlatex(EL_case_studyA_v2)))\n",
                "\n",
                "# if you want dot notation (instead of d/dt) in your latex code, this will work too:\n",
                "vlatex(EL_case_studyA_v2)"
            ]
        }
    ],
    "metadata": {
        "kernelspec": {
            "display_name": ".venv (3.12.10)",
            "language": "python",
            "name": "python3"
        },
        "language_info": {
            "codemirror_mode": {
                "name": "ipython",
                "version": 3
            },
            "file_extension": ".py",
            "mimetype": "text/x-python",
            "name": "python",
            "nbconvert_exporter": "python",
            "pygments_lexer": "ipython3",
            "version": "3.12.10"
        },
        "orig_nbformat": 4
    },
    "nbformat": 4,
    "nbformat_minor": 2
}
