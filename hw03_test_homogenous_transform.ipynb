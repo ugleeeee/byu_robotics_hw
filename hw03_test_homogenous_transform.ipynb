{
 "cells": [
  {
   "cell_type": "markdown",
   "metadata": {},
   "source": [
    "# HW 3: Introduction and Setup\n",
    "* Copy the contents of the file \"transforms_hw03.py\" to the bottom of your \"transforms.py\" file.\n",
    "* Complete the function definitions for \"se3\" and \"inv\" \n",
    "* Run this notebook and check the outputs to make sure everything matches. If your code is correct, the output should exactly match the homogenous transformation matrices shown below. \n",
    "* Make sure to review each cell and think about what the operation means. Does it make sense? If not, ask about it on Piazza or in office hours. "
   ]
  },
  {
   "cell_type": "markdown",
   "metadata": {},
   "source": [
    "# I did not use AI in my work on this homework."
   ]
  },
  {
   "cell_type": "code",
   "execution_count": 1,
   "metadata": {},
   "outputs": [],
   "source": [
    "import transforms as tr\n",
    "import numpy as np\n",
    "from visualization import VizScene"
   ]
  },
  {
   "cell_type": "markdown",
   "metadata": {},
   "source": [
    "## Homogeneous matrix made of only rotation about z-axis by amount $\\frac{\\pi}{4}$\n",
    "\n",
    "Rotation by amount theta around the z-axis should give the following:\n",
    "$$\n",
    "\\left[\\begin{matrix}0.707 & -0.707 & 0 & 0\\\\ 0.707 & 0.707 & 0 & 0\\\\0 & 0 & 1 & 0\\\\0 & 0 & 0 & 1\\end{matrix}\\right]\n",
    "$$"
   ]
  },
  {
   "cell_type": "code",
   "execution_count": 5,
   "metadata": {},
   "outputs": [
    {
     "name": "stdout",
     "output_type": "stream",
     "text": [
      "[[ 0.70710678 -0.70710678  0.          0.        ]\n",
      " [ 0.70710678  0.70710678  0.          0.        ]\n",
      " [ 0.          0.          1.          0.        ]\n",
      " [ 0.          0.          0.          1.        ]]\n"
     ]
    }
   ],
   "source": [
    "T = tr.se3(tr.rotz(np.pi/4))\n",
    "print(T)\n"
   ]
  },
  {
   "cell_type": "markdown",
   "metadata": {},
   "source": [
    "## Translation only along the x-axis by an amount $0.5$ should give the following:\n",
    "$$\n",
    "\\left[\\begin{matrix}1 & 0 & 0 & 0.5 \\\\0 & 1 & 0 & 0\\\\0 & 0 & 1 & 0\\\\0 & 0 & 0 & 1\\end{matrix}\\right]\n",
    "$$"
   ]
  },
  {
   "cell_type": "code",
   "execution_count": 6,
   "metadata": {},
   "outputs": [
    {
     "name": "stdout",
     "output_type": "stream",
     "text": [
      "[[1.  0.  0.  0.5]\n",
      " [0.  1.  0.  0. ]\n",
      " [0.  0.  1.  0. ]\n",
      " [0.  0.  0.  1. ]]\n"
     ]
    }
   ],
   "source": [
    "T = tr.se3(p=[0.5, 0, 0])\n",
    "print(T)"
   ]
  },
  {
   "cell_type": "markdown",
   "metadata": {},
   "source": [
    "# Checking the \"inv\" function\n",
    "\n",
    "If we calculate a homogenous transform with a rotation of 45 degrees about the x-axis and a general translation ($[0.5, 0.25, 0.3]^T$) we get the following:\n",
    "$$\n",
    "\\left[\\begin{matrix}1 & 0 & 0 & 0.5\\\\0 & 0.707106781186548 & -0.707106781186547 & 0.25\\\\0 & 0.707106781186547 & 0.707106781186548 & 0.3\\\\0 & 0 & 0 & 1\\end{matrix}\\right]\n",
    "$$\n",
    "\n",
    "Then, we can multiply the original transform by its inverse to check out inverse function, we should get the following:\n",
    "$$\n",
    "\\left[\\begin{matrix}1 & 0 & 0 & 0\\\\0 & 1.0 & 0 & 0\\\\0 & 0 & 1.0 & 0\\\\0 & 0 & 0 & 1\\end{matrix}\\right]\n",
    "$$"
   ]
  },
  {
   "cell_type": "code",
   "execution_count": 7,
   "metadata": {},
   "outputs": [
    {
     "name": "stdout",
     "output_type": "stream",
     "text": [
      "[[ 1.          0.          0.          0.5       ]\n",
      " [ 0.          0.70710678 -0.70710678  0.25      ]\n",
      " [ 0.          0.70710678  0.70710678  0.3       ]\n",
      " [ 0.          0.          0.          1.        ]]\n",
      "\n",
      "\n",
      " inv(T) @ T should give identity matrix:\n",
      "[[ 1.00000000e+00  0.00000000e+00  0.00000000e+00  0.00000000e+00]\n",
      " [ 0.00000000e+00  1.00000000e+00 -4.26642159e-17  0.00000000e+00]\n",
      " [ 0.00000000e+00 -4.26642159e-17  1.00000000e+00  6.93889390e-18]\n",
      " [ 0.00000000e+00  0.00000000e+00  0.00000000e+00  1.00000000e+00]]\n"
     ]
    }
   ],
   "source": [
    "T = tr.se3(tr.rotx(np.pi/4), [0.5, 0.25, 0.3])\n",
    "print(T)\n",
    "\n",
    "# now we can check if we implemented \"inv\" correctly:\n",
    "check = tr.inv(T) @ T\n",
    "print(\"\\n\\n inv(T) @ T should give identity matrix:\")\n",
    "print(check)\n"
   ]
  },
  {
   "cell_type": "markdown",
   "metadata": {},
   "source": [
    "# Transform a point in one frame to another frame\n"
   ]
  },
  {
   "cell_type": "markdown",
   "metadata": {},
   "source": [
    "## DH parameters combined for a single joint:\n",
    "\n",
    "Remember that if we combine a rotation in z, translation in z, then translation in x, and rotation in x, we should get the same result as the book for following the DH convention to move from one frame (or joint) to another as follows: \n",
    "\n",
    "$$\n",
    "\\left[\\begin{matrix}\\cos{\\left(\\theta \\right)} & - \\sin{\\left(\\theta \\right)} \\cos{\\left(\\alpha \\right)} & \\sin{\\left(\\alpha \\right)} \\sin{\\left(\\theta \\right)} & a \\cos{\\left(\\theta \\right)}\\\\\\sin{\\left(\\theta \\right)} & \\cos{\\left(\\alpha \\right)} \\cos{\\left(\\theta \\right)} & - \\sin{\\left(\\alpha \\right)} \\cos{\\left(\\theta \\right)} & a \\sin{\\left(\\theta \\right)}\\\\0 & \\sin{\\left(\\alpha \\right)} & \\cos{\\left(\\alpha \\right)} & d\\\\0 & 0 & 0 & 1\\end{matrix}\\right]\n",
    "$$\n",
    "\n",
    "In future homework, we'll implement representations of robot arms that include this transformation. But for the test values of DH parameters below, we can perform this sequence of operations manually.  \n",
    "\n",
    "Assuming the following DH parameters for two joints:\n",
    "\n",
    "$\\theta_1 = \\frac{\\pi}{8}$, $d_1 = 0$, $a_1 = 0.3$, $\\alpha_1 = \\frac{\\pi}{2}$\n",
    "\n",
    "$\\theta_2 = \\frac{\\pi}{4}$, $d_2 = 0$, $a_2 = 0.3$, $\\alpha_2 = 0$\n",
    "\n",
    "\n",
    "The resulting homogeneous transform describing the tip (or frame 2) relate to frame 0 would be:\n",
    "\n",
    "$$\n",
    "\\left[\\begin{matrix}0.653281482438188 & -0.653281482438188 & 0.38268343236509 & 0.473148304484842\\\\0.270598050073099 & -0.270598050073099 & -0.923879532511287 & 0.195984444731456\\\\0.707106781186548 & 0.707106781186548 & 0 & 0.212132034355964\\\\0 & 0 & 0 & 1.0\\end{matrix}\\right]\n",
    "$$"
   ]
  },
  {
   "cell_type": "code",
   "execution_count": null,
   "metadata": {},
   "outputs": [
    {
     "name": "stdout",
     "output_type": "stream",
     "text": [
      "[[ 0.65328148 -0.65328148  0.38268343  0.4731483 ]\n",
      " [ 0.27059805 -0.27059805 -0.92387953  0.19598444]\n",
      " [ 0.70710678  0.70710678  0.          0.21213203]\n",
      " [ 0.          0.          0.          1.        ]]\n"
     ]
    }
   ],
   "source": [
    "# start by substituting the actual values for R and p and making a new SE3 object\n",
    "# that describes the transformation from frame 0 to frame 1\n",
    "\n",
    "# TODO - fill this out\n",
    "# find the transformation from frame 0 to 1\n",
    "T1_in_0 = tr.se3(tr.rotz(np.pi/8)) @ tr.se3(tr.rotx(np.pi/2), [0.3,0,0])\n",
    "\n",
    "# do the same thing for frame 1 to frame 2\n",
    "T2_in_1 = tr.se3(tr.rotz(np.pi/4)) @ tr.se3(p = [0.3,0,0])\n",
    "# now we can combine the two to get a transformation that describes frame 2\n",
    "# relative to frame 0\n",
    "T2_in_0 = T1_in_0 @ T2_in_1\n",
    "\n",
    "\n",
    "# printing the result\n",
    "print(T2_in_0)\n",
    "\n",
    "# use the \"add_frame\" function to plot both frames (for joint 1 and joint 2) relative\n",
    "# to a base or ground frame.\n",
    "\n",
    "# TODO - put your visualization code here.\n",
    "\n",
    "import time\n",
    "from visualization import VizScene \n",
    "\n",
    "# now you can use functions like \"VizScene\" and \"add_frame\" \n",
    "# as demonstrated in HW 01 to animate a frame.  \n",
    "viz = VizScene()\n",
    "\n",
    "frame1 = np.eye(4)\n",
    "viz.add_frame(np.eye(4), label='0', axes_label='O')\n",
    "viz.add_frame(T1_in_0, label='1', axes_label='1')\n",
    "# viz.add_frame(T2_in_1, label='frame1', axes_label='1')\n",
    "viz.add_frame(T2_in_0, label='2', axes_label='2')\n",
    "\n",
    "time_to_run = 10\n",
    "refresh_rate = 30\n",
    "t = 0\n",
    "start = time.time()\n",
    "while t < time_to_run:\n",
    "    t = time.time() - start\n",
    "    \n",
    "    viz.hold(1/refresh_rate)\n",
    "\n",
    "viz.close_viz()"
   ]
  },
  {
   "cell_type": "code",
   "execution_count": 2,
   "metadata": {},
   "outputs": [],
   "source": [
    "#Problem 2.37\n",
    "Obase = tr.se3(p=[0, 0, 0])\n",
    "O1in0 = tr.se3(p=[0, 1, 1])\n",
    "O2in0 = tr.se3(p=[-0.5, 1.5, 1])\n",
    "O3in0 = tr.se3(tr.rotz(np.pi/2) @ tr.rotx(np.pi), p=[-0.5, 1.5, 3])\n",
    "O2in3 = O3in0 @ tr.se3(tr.rotx(np.pi) @ tr.rotz(-1*np.pi/2), [0,0,2])\n",
    "#Problem 2.38\n",
    "O3in0 = tr.se3(tr.rotz(np.pi/2) @ tr.rotx(np.pi)@ tr.rotz(np.pi/2), p=[-0.5, 1.5, 3])\n",
    "O2in3 = O3in0 @ tr.se3(tr.rotz(-1*np.pi/2) @ tr.rotx(np.pi) @ tr.rotz(-1*np.pi/2), [0,0,2])\n",
    "\n",
    "\n",
    "\n",
    "import time\n",
    "from visualization import VizScene \n",
    "\n",
    "viz = VizScene()\n",
    "\n",
    "frame1 = np.eye(4)\n",
    "viz.add_frame(Obase, label='0', axes_label='O')\n",
    "viz.add_frame(O1in0, label='1', axes_label='1')\n",
    "viz.add_frame(O2in0, label='2', axes_label='2')\n",
    "viz.add_frame(O3in0, label='3', axes_label='3')\n",
    "viz.add_frame(O2in3, label='2a', axes_label='2a')\n",
    "\n",
    "time_to_run = 10\n",
    "refresh_rate = 30\n",
    "t = 0\n",
    "start = time.time()\n",
    "while t < time_to_run:\n",
    "    t = time.time() - start\n",
    "    \n",
    "    viz.hold(1/refresh_rate)\n",
    "\n",
    "viz.close_viz()"
   ]
  },
  {
   "cell_type": "code",
   "execution_count": 3,
   "metadata": {},
   "outputs": [
    {
     "ename": "KeyboardInterrupt",
     "evalue": "",
     "output_type": "error",
     "traceback": [
      "\u001b[31m---------------------------------------------------------------------------\u001b[39m",
      "\u001b[31mKeyboardInterrupt\u001b[39m                         Traceback (most recent call last)",
      "\u001b[36mCell\u001b[39m\u001b[36m \u001b[39m\u001b[32mIn[3]\u001b[39m\u001b[32m, line 25\u001b[39m\n\u001b[32m     22\u001b[39m \u001b[38;5;28;01mwhile\u001b[39;00m t < time_to_run:\n\u001b[32m     23\u001b[39m     t = time.time() - start\n\u001b[32m---> \u001b[39m\u001b[32m25\u001b[39m     \u001b[43mviz\u001b[49m\u001b[43m.\u001b[49m\u001b[43mhold\u001b[49m\u001b[43m(\u001b[49m\u001b[32;43m1\u001b[39;49m\u001b[43m/\u001b[49m\u001b[43mrefresh_rate\u001b[49m\u001b[43m)\u001b[49m\n\u001b[32m     27\u001b[39m viz.close_viz()\n",
      "\u001b[36mFile \u001b[39m\u001b[32mc:\\Users\\AsherWebb\\Documents\\Git\\byu_robotics_hw\\visualization.py:512\u001b[39m, in \u001b[36mVizScene.hold\u001b[39m\u001b[34m(self, seconds)\u001b[39m\n\u001b[32m    510\u001b[39m         \u001b[38;5;28mself\u001b[39m.app.processEvents()\n\u001b[32m    511\u001b[39m \u001b[38;5;28;01melse\u001b[39;00m:\n\u001b[32m--> \u001b[39m\u001b[32m512\u001b[39m     tstart = \u001b[43mtime\u001b[49m\u001b[43m(\u001b[49m\u001b[43m)\u001b[49m\n\u001b[32m    513\u001b[39m     end = tstart + seconds\n\u001b[32m    514\u001b[39m     \u001b[38;5;28;01mwhile\u001b[39;00m time() < end \u001b[38;5;129;01mand\u001b[39;00m \u001b[38;5;28mself\u001b[39m.window.isVisible():\n",
      "\u001b[31mKeyboardInterrupt\u001b[39m: "
     ]
    }
   ],
   "source": [
    "#Problem 3.4\n",
    "Obase = tr.se3(p=[0, 0, 0])\n",
    "O1in0 = tr.se3(tr.rotz(np.pi/4) @ tr.rotx(np.pi/3), p=[0, 0, 0]) #Rotation is free\n",
    "O1in0Arm = O1in0 @ tr.se3(p=[0,0.3,1]) #added in arm length = 1 in z, .3 in y\n",
    "O2in1 = tr.se3(p=[0,0,.5]) #Rotation is fixed, arm length is free in the Z direction, equal to the arm length\n",
    "O2in0 = O1in0Arm @ O2in1\n",
    "\n",
    "import time\n",
    "from visualization import VizScene \n",
    "\n",
    "viz = VizScene()\n",
    "\n",
    "frame1 = np.eye(4)\n",
    "viz.add_frame(Obase, label='0', axes_label='O')\n",
    "viz.add_frame(O1in0Arm, label='1', axes_label='1')\n",
    "viz.add_frame(O2in0, label='2', axes_label='2')\n",
    "\n",
    "time_to_run = 10\n",
    "refresh_rate = 30\n",
    "t = 0\n",
    "start = time.time()\n",
    "while t < time_to_run:\n",
    "    t = time.time() - start\n",
    "    \n",
    "    viz.hold(1/refresh_rate)\n",
    "\n",
    "viz.close_viz()"
   ]
  },
  {
   "cell_type": "code",
   "execution_count": 4,
   "metadata": {},
   "outputs": [],
   "source": [
    "#Problem 3.6\n",
    "Obase = tr.se3(p=[0, 0, 0])\n",
    "O1in0 = tr.se3(tr.rotx(np.pi/2), [0, 0, 1])\n",
    "O2in1 = tr.se3(tr.rotz(np.pi/3) @ tr.rotx(np.pi/4), [0, 0, 1])\n",
    "#Problem 3.8\n",
    "O3in2 = tr.se3(tr.rotz(np.pi/5),[0,0,1])\n",
    "O4in3 = tr.se3(tr.rotx(np.pi/4), [0,0,1])\n",
    "O5in4 = tr.se3(tr.rotz(np.pi/6), [0,0,1])\n",
    "OTin5 = tr.se3(p=[0,0,1])\n",
    "\n",
    "\n",
    "O2 = O1in0 @ O2in1\n",
    "O3 = O2 @ O3in2\n",
    "O4 = O3 @ O4in3\n",
    "O5 = O4 @ O5in4\n",
    "OT = O5 @ OTin5\n",
    "\n",
    "import time\n",
    "from visualization import VizScene \n",
    "\n",
    "viz = VizScene()\n",
    "\n",
    "frame1 = np.eye(4)\n",
    "viz.add_frame(Obase, label='0', axes_label='O')\n",
    "viz.add_frame(O1in0, label='1', axes_label='1')\n",
    "viz.add_frame(O2, label='2', axes_label='2')\n",
    "viz.add_frame(O3, label='3', axes_label='3')\n",
    "viz.add_frame(O4, label='4', axes_label='4')\n",
    "viz.add_frame(O5, label='5', axes_label='5')\n",
    "viz.add_frame(OT, label='T', axes_label='T')\n",
    "\n",
    "\n",
    "time_to_run = 10\n",
    "refresh_rate = 30\n",
    "t = 0\n",
    "start = time.time()\n",
    "while t < time_to_run:\n",
    "    t = time.time() - start\n",
    "    \n",
    "    viz.hold(1/refresh_rate)\n",
    "\n",
    "viz.close_viz()\n"
   ]
  }
 ],
 "metadata": {
  "kernelspec": {
   "display_name": ".venv (3.12.10)",
   "language": "python",
   "name": "python3"
  },
  "language_info": {
   "codemirror_mode": {
    "name": "ipython",
    "version": 3
   },
   "file_extension": ".py",
   "mimetype": "text/x-python",
   "name": "python",
   "nbconvert_exporter": "python",
   "pygments_lexer": "ipython3",
   "version": "3.12.10"
  },
  "orig_nbformat": 4
 },
 "nbformat": 4,
 "nbformat_minor": 2
}
