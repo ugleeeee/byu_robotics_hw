{
    "cells": [
        {
            "cell_type": "markdown",
            "metadata": {},
            "source": [
                "# HW 2: Introduction and Setup\n",
                "* Open the file \"transforms.py\"\n",
                "* Complete the functions marked with \"TODO\"\n",
                "* Run this notebook and check the output\n",
                "* If your code is correct, the output should exactly match the rotation matrices shown below. "
            ]
        },
        {
            "cell_type": "code",
            "execution_count": 1,
            "metadata": {},
            "outputs": [],
            "source": [
                "# this cell will fail if you haven't correctly copied transforms.py \n",
                "# (and subsequent cells will fail if you haven't completed transforms.py)\n",
                "import transforms as tr\n",
                "import numpy as np\n"
            ]
        },
        {
            "cell_type": "markdown",
            "metadata": {},
            "source": [
                "## 2D rotation by 20 degrees\n",
                "\n",
                "A 2D rotation by 20 degrees should give the following:\n",
                "$$\n",
                "\\left[\\begin{array}{cc}\n",
                "0.9397 & -0.342\\\\\n",
                "0.342 & 0.9397\n",
                "\\end{array}\\right]\n",
                "$$"
            ]
        },
        {
            "cell_type": "code",
            "execution_count": 4,
            "metadata": {},
            "outputs": [
                {
                    "name": "stdout",
                    "output_type": "stream",
                    "text": [
                        "Define 2D Rotation with Angle = 20 degrees\n",
                        "[[ 0.93969262 -0.34202014]\n",
                        " [ 0.34202014  0.93969262]]\n"
                    ]
                }
            ],
            "source": [
                "print(\"Define 2D Rotation with Angle = 20 degrees\")\n",
                "R = tr.rot2(20.0/180.0*np.pi)\n",
                "print(R)"
            ]
        },
        {
            "cell_type": "markdown",
            "metadata": {},
            "source": [
                "## 2D rotation by 1.1 radians\n",
                "A 2D rotation by 1.1 radians should give the following:\n",
                "$$\n",
                "\\left[\\begin{array}{cc}\n",
                "0.4536 & -0.8912\\\\\n",
                "0.8912 & 0.4536\n",
                "\\end{array}\\right]\n",
                "$$"
            ]
        },
        {
            "cell_type": "code",
            "execution_count": 5,
            "metadata": {},
            "outputs": [
                {
                    "name": "stdout",
                    "output_type": "stream",
                    "text": [
                        "\n",
                        "Specify that the angle is 1.1 radians\n",
                        "[[ 0.45359612 -0.89120736]\n",
                        " [ 0.89120736  0.45359612]]\n"
                    ]
                }
            ],
            "source": [
                "print(\"\\nSpecify that the angle is 1.1 radians\")\n",
                "R = tr.rot2(1.1)\n",
                "print(R)"
            ]
        },
        {
            "cell_type": "markdown",
            "metadata": {},
            "source": [
                "## 3D rotations $R_x(30)$, $R_y(25)$, and $R_z(15)$   (all in degrees) \n",
                "\n",
                "Using the \"rotx\" function to make a 3D rotation about the x axis of 30 degrees, we get:\n",
                "$$\n",
                "\\left[\\begin{array}{ccc}\n",
                "1.0 & 0 & 0 \\\\\n",
                "0 & 0.866 & -0.5 \\\\\n",
                "0 & 0.5   & 0.866 \n",
                "\\end{array}\\right]\n",
                "$$\n",
                "\n",
                "Using the \"roty\" function to make a 3D rotation about the y axis of 25 degrees, we get:\n",
                "$$\n",
                "\\left[\\begin{array}{ccc}\n",
                "0.9063 & 0 & 0.4226 \\\\\n",
                "0 & 1.0 & 0\\\\\n",
                "-0.4226 & 0  & 0.9063 \n",
                "\\end{array}\\right]\n",
                "$$\n",
                "\n",
                "Using the \"rotz\" function to make a 3D rotation about the z axis of 15 degrees, we get:\n",
                "$$\n",
                "\\left[\\begin{array}{ccc}\n",
                "0.9659 & -0.2588 & 0 \\\\\n",
                "0.2588 & 0.9659 & 0 \\\\\n",
                "0 & 0 & 1.0\n",
                "\\end{array}\\right]\n",
                "$$"
            ]
        },
        {
            "cell_type": "code",
            "execution_count": 5,
            "metadata": {},
            "outputs": [
                {
                    "name": "stdout",
                    "output_type": "stream",
                    "text": [
                        "\n",
                        "Use rotx to make a 3D rotation about the x axis of 30 degrees\n",
                        "[[ 1.         0.         0.       ]\n",
                        " [ 0.         0.8660254 -0.5      ]\n",
                        " [ 0.         0.5        0.8660254]]\n",
                        "\n",
                        "Use roty to make a 3D rotation about the y axis of 25 degrees\n",
                        "[[ 0.90630779  0.          0.42261826]\n",
                        " [ 0.          1.          0.        ]\n",
                        " [-0.42261826  0.          0.90630779]]\n",
                        "\n",
                        "Use rotz to make a 3D rotation about the z axis of 15 degrees\n",
                        "[[ 0.96592583 -0.25881905  0.        ]\n",
                        " [ 0.25881905  0.96592583  0.        ]\n",
                        " [ 0.          0.          1.        ]]\n"
                    ]
                }
            ],
            "source": [
                "print(\"\\nUse rotx to make a 3D rotation about the x axis of 30 degrees\")\n",
                "R = tr.rotx(30.0/180.0*np.pi)\n",
                "print(R)\n",
                "\n",
                "print(\"\\nUse roty to make a 3D rotation about the y axis of 25 degrees\")\n",
                "R = tr.roty(25.0/180.0*np.pi)\n",
                "print(R)\n",
                "\n",
                "print(\"\\nUse rotz to make a 3D rotation about the z axis of 15 degrees\")\n",
                "R = tr.rotz(15.0/180.0*np.pi)\n",
                "print(R)"
            ]
        },
        {
            "cell_type": "markdown",
            "metadata": {},
            "source": [
                "## Composition of 3D rotations:\n",
                "\n",
                "Composing a 3D rotation about the x, y, and z axes as follows $R_x(10)*R_y(15)*R_z(20)$ (all in degrees), should give: \n",
                "$$\n",
                "\\left[\\begin{array}{ccc}\n",
                "0.9077 & -0.3304 & 0.2588 \\\\\n",
                "0.3791 & 0.91 & -0.1677 \\\\\n",
                "-0.1801 & 0.2504 & 0.9512 \n",
                "\\end{array}\\right]\n",
                "$$\n",
                "\n",
                "Finding the inverse of a rotation matrix, and multiplying it by the original rotation matrix, should result in the identity matrix:\n",
                "$$\n",
                "\\left[\\begin{array}{ccc}\n",
                "1.0 & 0 & 0 \\\\\n",
                "0 & 1.0 & 0 \\\\\n",
                "0 & 0 & 1.0\n",
                "\\end{array}\\right]\n",
                "$$"
            ]
        },
        {
            "cell_type": "code",
            "execution_count": 8,
            "metadata": {},
            "outputs": [
                {
                    "name": "stdout",
                    "output_type": "stream",
                    "text": [
                        "\n",
                        "Compose multiple rotations about the x, y, and z axes\n",
                        "[[ 0.90767337 -0.33036609  0.25881905]\n",
                        " [ 0.37905712  0.91004501 -0.16773126]\n",
                        " [-0.18012426  0.2503524   0.95125124]]\n",
                        "\n",
                        "Demonstrate that your implementation of the .inv() function returns the inverse of a rotation\n",
                        "[[1.00000000e+00 0.00000000e+00 0.00000000e+00]\n",
                        " [0.00000000e+00 1.00000000e+00 2.22218033e-17]\n",
                        " [0.00000000e+00 1.88740713e-17 1.00000000e+00]]\n",
                        "\n",
                        "\n"
                    ]
                }
            ],
            "source": [
                "print(\"\\nCompose multiple rotations about the x, y, and z axes\")\n",
                "R = tr.rotx(10/180.0*np.pi) @ tr.roty(15/180.0*np.pi) @ tr.rotz(20/180.0*np.pi)\n",
                "print(R)\n",
                "\n",
                "print(\"\\nDemonstrate that your implementation of the .inv() function returns the inverse of a rotation\")\n",
                "R = tr.rotx(20/180.0*np.pi)\n",
                "# print(R, \"\\n\")\n",
                "R = R @ tr.rot_inv(R)\n",
                "# R2 = tr.rot_inv(np.array([[1,0],\n",
                "#                           [0,1]]))\n",
                "print(R)\n",
                "print(\"\\n\")"
            ]
        },
        {
            "cell_type": "markdown",
            "metadata": {},
            "source": [
                "## Checking commutativity:\n",
                "\n",
                "The previoius rotation described as $R_x(10)*R_y(15)*R_z(20)$ (all in degrees), gave the following: \n",
                "$$\n",
                "\\left[\\begin{array}{ccc}\n",
                "0.9077 & -0.3304 & 0.2588 \\\\\n",
                "0.3791 & 0.91 & -0.1677 \\\\\n",
                "-0.1801 & 0.2504 & 0.9512 \n",
                "\\end{array}\\right]\n",
                "$$\n",
                "\n",
                "Show that performing the operations in the opposite order does NOT give the same result. "
            ]
        },
        {
            "cell_type": "code",
            "execution_count": 23,
            "metadata": {},
            "outputs": [
                {
                    "name": "stdout",
                    "output_type": "stream",
                    "text": [
                        "\n",
                        "Rotation about current z, then y, then x axes:\n",
                        "[[ 0.90767337 -0.29459106  0.29890661]\n",
                        " [ 0.33036609  0.94078815 -0.07599942]\n",
                        " [-0.25881905  0.16773126  0.95125124]]\n"
                    ]
                }
            ],
            "source": [
                "print(\"\\nRotation about current z, then y, then x axes:\")\n",
                "R = tr.rotz(20/180.0*np.pi) @ tr.roty(15/180.0*np.pi) @ tr.rotx(10/180.0*np.pi)\n",
                "print(R)"
            ]
        },
        {
            "cell_type": "markdown",
            "metadata": {},
            "source": [
                "## Animating a Coordinate Frame\n",
                "\n",
                "We can implement and test the code for problem 9 here:"
            ]
        },
        {
            "cell_type": "code",
            "execution_count": 20,
            "metadata": {},
            "outputs": [],
            "source": [
                "import time\n",
                "from visualization import VizScene \n",
                "\n",
                "# now you can use functions like \"VizScene\" and \"add_frame\" \n",
                "# as demonstrated in HW 01 to animate a frame.  \n",
                "viz = VizScene()\n",
                "\n",
                "frame1 = np.eye(4)\n",
                "viz.add_frame(np.eye(4), label='world', axes_label='O')\n",
                "viz.add_frame(frame1, label='frame1', axes_label='1')\n",
                "time_to_run = 10\n",
                "refresh_rate = 30\n",
                "t = 0\n",
                "start = time.time()\n",
                "while t < time_to_run:\n",
                "    t = time.time() - start\n",
                "    \n",
                "    R = tr.rotx(t)\n",
                "    p = -1*R[2]\n",
                "\n",
                "    frame1[:3,:3] = R\n",
                "    frame1[:3,-1] = 1\n",
                "    viz.update(As=[np.eye(4), frame1])\n",
                "\n",
                "    viz.hold(1/refresh_rate)\n",
                "\n",
                "viz.close_viz()\n",
                "\n"
            ]
        },
        {
            "cell_type": "code",
            "execution_count": null,
            "metadata": {},
            "outputs": [],
            "source": [
                "# Problem 3\n",
                "Current Frame - Ry(psi) * Rz(theta) * Rx(phi)\n",
                "World Frame - Rx(phi) * Rz(theta) *Ry(psi)"
            ]
        },
        {
            "cell_type": "code",
            "execution_count": 3,
            "metadata": {},
            "outputs": [
                {
                    "ename": "NameError",
                    "evalue": "name 'Rx' is not defined",
                    "output_type": "error",
                    "traceback": [
                        "\u001b[31m---------------------------------------------------------------------------\u001b[39m",
                        "\u001b[31mNameError\u001b[39m                                 Traceback (most recent call last)",
                        "\u001b[36mCell\u001b[39m\u001b[36m \u001b[39m\u001b[32mIn[3]\u001b[39m\u001b[32m, line 2\u001b[39m\n\u001b[32m      1\u001b[39m \u001b[38;5;66;03m#Problem 4\u001b[39;00m\n\u001b[32m----> \u001b[39m\u001b[32m2\u001b[39m \u001b[43mRx\u001b[49m(\u001b[32m90\u001b[39m) @ Rz(\u001b[32m90\u001b[39m)\n",
                        "\u001b[31mNameError\u001b[39m: name 'Rx' is not defined"
                    ]
                }
            ],
            "source": [
                "#Problem 4\n",
                "Rx(90) @ Rz(90)"
            ]
        },
        {
            "cell_type": "code",
            "execution_count": 4,
            "metadata": {},
            "outputs": [
                {
                    "name": "stdout",
                    "output_type": "stream",
                    "text": [
                        "[[ 0.  1.  0.]\n",
                        " [ 0.  0. -1.]\n",
                        " [-1.  0.  0.]]\n",
                        "Error while drawing item <pyqtgraph.opengl.items.GLMeshItem.GLMeshItem object at 0x0000027B4150EF00>.\n"
                    ]
                },
                {
                    "name": "stderr",
                    "output_type": "stream",
                    "text": [
                        "c:\\Users\\AsherWebb\\Documents\\Git\\byu_robotics_hw\\.venv\\Lib\\site-packages\\pyqtgraph\\opengl\\GLViewWidget.py:231: RuntimeWarning: \n",
                        "Traceback (most recent call last):\n",
                        "  File \"<frozen runpy>\", line 198, in _run_module_as_main\n",
                        "  File \"<frozen runpy>\", line 88, in _run_code\n",
                        "  File \"c:\\Users\\AsherWebb\\Documents\\Git\\byu_robotics_hw\\.venv\\Lib\\site-packages\\ipykernel_launcher.py\", line 18, in <module>\n",
                        "    app.launch_new_instance()\n",
                        "  File \"c:\\Users\\AsherWebb\\Documents\\Git\\byu_robotics_hw\\.venv\\Lib\\site-packages\\traitlets\\config\\application.py\", line 1075, in launch_instance\n",
                        "    app.start()\n",
                        "  File \"c:\\Users\\AsherWebb\\Documents\\Git\\byu_robotics_hw\\.venv\\Lib\\site-packages\\ipykernel\\kernelapp.py\", line 739, in start\n",
                        "    self.io_loop.start()\n",
                        "  File \"c:\\Users\\AsherWebb\\Documents\\Git\\byu_robotics_hw\\.venv\\Lib\\site-packages\\tornado\\platform\\asyncio.py\", line 211, in start\n",
                        "    self.asyncio_loop.run_forever()\n",
                        "  File \"C:\\Users\\AsherWebb\\AppData\\Local\\Programs\\Python\\Python312\\Lib\\asyncio\\base_events.py\", line 645, in run_forever\n",
                        "    self._run_once()\n",
                        "  File \"C:\\Users\\AsherWebb\\AppData\\Local\\Programs\\Python\\Python312\\Lib\\asyncio\\base_events.py\", line 1999, in _run_once\n",
                        "    handle._run()\n",
                        "  File \"C:\\Users\\AsherWebb\\AppData\\Local\\Programs\\Python\\Python312\\Lib\\asyncio\\events.py\", line 88, in _run\n",
                        "    self._context.run(self._callback, *self._args)\n",
                        "  File \"c:\\Users\\AsherWebb\\Documents\\Git\\byu_robotics_hw\\.venv\\Lib\\site-packages\\ipykernel\\kernelbase.py\", line 519, in dispatch_queue\n",
                        "    await self.process_one()\n",
                        "  File \"c:\\Users\\AsherWebb\\Documents\\Git\\byu_robotics_hw\\.venv\\Lib\\site-packages\\ipykernel\\kernelbase.py\", line 508, in process_one\n",
                        "    await dispatch(*args)\n",
                        "  File \"c:\\Users\\AsherWebb\\Documents\\Git\\byu_robotics_hw\\.venv\\Lib\\site-packages\\ipykernel\\kernelbase.py\", line 400, in dispatch_shell\n",
                        "    await result\n",
                        "  File \"c:\\Users\\AsherWebb\\Documents\\Git\\byu_robotics_hw\\.venv\\Lib\\site-packages\\ipykernel\\ipkernel.py\", line 368, in execute_request\n",
                        "    await super().execute_request(stream, ident, parent)\n",
                        "  File \"c:\\Users\\AsherWebb\\Documents\\Git\\byu_robotics_hw\\.venv\\Lib\\site-packages\\ipykernel\\kernelbase.py\", line 767, in execute_request\n",
                        "    reply_content = await reply_content\n",
                        "  File \"c:\\Users\\AsherWebb\\Documents\\Git\\byu_robotics_hw\\.venv\\Lib\\site-packages\\ipykernel\\ipkernel.py\", line 455, in do_execute\n",
                        "    res = shell.run_cell(\n",
                        "  File \"c:\\Users\\AsherWebb\\Documents\\Git\\byu_robotics_hw\\.venv\\Lib\\site-packages\\ipykernel\\zmqshell.py\", line 577, in run_cell\n",
                        "    return super().run_cell(*args, **kwargs)\n",
                        "  File \"c:\\Users\\AsherWebb\\Documents\\Git\\byu_robotics_hw\\.venv\\Lib\\site-packages\\IPython\\core\\interactiveshell.py\", line 3116, in run_cell\n",
                        "    result = self._run_cell(\n",
                        "  File \"c:\\Users\\AsherWebb\\Documents\\Git\\byu_robotics_hw\\.venv\\Lib\\site-packages\\IPython\\core\\interactiveshell.py\", line 3171, in _run_cell\n",
                        "    result = runner(coro)\n",
                        "  File \"c:\\Users\\AsherWebb\\Documents\\Git\\byu_robotics_hw\\.venv\\Lib\\site-packages\\IPython\\core\\async_helpers.py\", line 128, in _pseudo_sync_runner\n",
                        "    coro.send(None)\n",
                        "  File \"c:\\Users\\AsherWebb\\Documents\\Git\\byu_robotics_hw\\.venv\\Lib\\site-packages\\IPython\\core\\interactiveshell.py\", line 3394, in run_cell_async\n",
                        "    has_raised = await self.run_ast_nodes(code_ast.body, cell_name,\n",
                        "  File \"c:\\Users\\AsherWebb\\Documents\\Git\\byu_robotics_hw\\.venv\\Lib\\site-packages\\IPython\\core\\interactiveshell.py\", line 3639, in run_ast_nodes\n",
                        "    if await self.run_code(code, result, async_=asy):\n",
                        "  File \"c:\\Users\\AsherWebb\\Documents\\Git\\byu_robotics_hw\\.venv\\Lib\\site-packages\\IPython\\core\\interactiveshell.py\", line 3699, in run_code\n",
                        "    exec(code_obj, self.user_global_ns, self.user_ns)\n",
                        "  File \"C:\\Users\\AsherWebb\\AppData\\Local\\Temp\\ipykernel_18876\\2529637520.py\", line 28, in <module>\n",
                        "    viz.update(As=[np.eye(4), frame1])\n",
                        "  File \"c:\\Users\\AsherWebb\\Documents\\Git\\byu_robotics_hw\\visualization.py\", line 498, in update\n",
                        "    self.app.processEvents()\n",
                        "  File \"c:\\Users\\AsherWebb\\Documents\\Git\\byu_robotics_hw\\.venv\\Lib\\site-packages\\pyqtgraph\\opengl\\GLViewWidget.py\", line 210, in paintGL\n",
                        "    self.drawItemTree(useItemNames=useItemNames)\n",
                        "  File \"c:\\Users\\AsherWebb\\Documents\\Git\\byu_robotics_hw\\.venv\\Lib\\site-packages\\pyqtgraph\\opengl\\GLViewWidget.py\", line 242, in drawItemTree\n",
                        "    self.drawItemTree(i, useItemNames=useItemNames)\n",
                        "  File \"c:\\Users\\AsherWebb\\Documents\\Git\\byu_robotics_hw\\.venv\\Lib\\site-packages\\pyqtgraph\\opengl\\GLViewWidget.py\", line 231, in drawItemTree\n",
                        "    debug.printExc()\n",
                        "  --- exception caught here ---\n",
                        "  File \"c:\\Users\\AsherWebb\\Documents\\Git\\byu_robotics_hw\\.venv\\Lib\\site-packages\\pyqtgraph\\opengl\\GLViewWidget.py\", line 228, in drawItemTree\n",
                        "    i.paint()\n",
                        "  File \"c:\\Users\\AsherWebb\\Documents\\Git\\byu_robotics_hw\\.venv\\Lib\\site-packages\\pyqtgraph\\opengl\\items\\GLMeshItem.py\", line 175, in paint\n",
                        "    glEnableClientState(GL_VERTEX_ARRAY)\n",
                        "  File \"c:\\Users\\AsherWebb\\Documents\\Git\\byu_robotics_hw\\.venv\\Lib\\site-packages\\OpenGL\\error.py\", line 230, in glCheckError\n",
                        "    raise self._errorClass(\n",
                        "OpenGL.error.GLError: GLError(\n",
                        "\terr = 1282,\n",
                        "\tdescription = b'invalid operation',\n",
                        "\tbaseOperation = glEnableClientState,\n",
                        "\tcArguments = (GL_VERTEX_ARRAY,)\n",
                        ")\n",
                        "  debug.printExc()\n"
                    ]
                },
                {
                    "ename": "GLError",
                    "evalue": "GLError(\n\terr = 1282,\n\tdescription = b'invalid operation',\n\tbaseOperation = glMatrixMode,\n\tcArguments = (GL_MODELVIEW,)\n)",
                    "output_type": "error",
                    "traceback": [
                        "\u001b[31m---------------------------------------------------------------------------\u001b[39m",
                        "\u001b[31mGLError\u001b[39m                                   Traceback (most recent call last)",
                        "\u001b[36mFile \u001b[39m\u001b[32mc:\\Users\\AsherWebb\\Documents\\Git\\byu_robotics_hw\\.venv\\Lib\\site-packages\\pyqtgraph\\opengl\\GLViewWidget.py:242\u001b[39m, in \u001b[36mGLViewMixin.drawItemTree\u001b[39m\u001b[34m(self, item, useItemNames)\u001b[39m\n\u001b[32m    241\u001b[39m     glMultMatrixf(np.array(tr.data(), dtype=np.float32))\n\u001b[32m--> \u001b[39m\u001b[32m242\u001b[39m     \u001b[38;5;28;43mself\u001b[39;49m\u001b[43m.\u001b[49m\u001b[43mdrawItemTree\u001b[49m\u001b[43m(\u001b[49m\u001b[43mi\u001b[49m\u001b[43m,\u001b[49m\u001b[43m \u001b[49m\u001b[43museItemNames\u001b[49m\u001b[43m=\u001b[49m\u001b[43museItemNames\u001b[49m\u001b[43m)\u001b[49m\n\u001b[32m    243\u001b[39m \u001b[38;5;28;01mfinally\u001b[39;00m:\n",
                        "\u001b[36mFile \u001b[39m\u001b[32mc:\\Users\\AsherWebb\\Documents\\Git\\byu_robotics_hw\\.venv\\Lib\\site-packages\\pyqtgraph\\opengl\\GLViewWidget.py:235\u001b[39m, in \u001b[36mGLViewMixin.drawItemTree\u001b[39m\u001b[34m(self, item, useItemNames)\u001b[39m\n\u001b[32m    234\u001b[39m     \u001b[38;5;28;01mfinally\u001b[39;00m:\n\u001b[32m--> \u001b[39m\u001b[32m235\u001b[39m         \u001b[43mglPopAttrib\u001b[49m\u001b[43m(\u001b[49m\u001b[43m)\u001b[49m\n\u001b[32m    236\u001b[39m \u001b[38;5;28;01melse\u001b[39;00m:\n",
                        "\u001b[36mFile \u001b[39m\u001b[32mc:\\Users\\AsherWebb\\Documents\\Git\\byu_robotics_hw\\.venv\\Lib\\site-packages\\OpenGL\\error.py:230\u001b[39m, in \u001b[36m_ErrorChecker.glCheckError\u001b[39m\u001b[34m(self, result, baseOperation, cArguments, *args)\u001b[39m\n\u001b[32m    229\u001b[39m \u001b[38;5;28;01mif\u001b[39;00m err != \u001b[38;5;28mself\u001b[39m._noErrorResult:\n\u001b[32m--> \u001b[39m\u001b[32m230\u001b[39m     \u001b[38;5;28;01mraise\u001b[39;00m \u001b[38;5;28mself\u001b[39m._errorClass(\n\u001b[32m    231\u001b[39m         err,\n\u001b[32m    232\u001b[39m         result,\n\u001b[32m    233\u001b[39m         cArguments = cArguments,\n\u001b[32m    234\u001b[39m         baseOperation = baseOperation,\n\u001b[32m    235\u001b[39m     )\n\u001b[32m    236\u001b[39m \u001b[38;5;28;01mreturn\u001b[39;00m result\n",
                        "\u001b[31mGLError\u001b[39m: GLError(\n\terr = 1282,\n\tdescription = b'invalid operation',\n\tbaseOperation = glPopAttrib,\n\tcArguments = ()\n)",
                        "\nDuring handling of the above exception, another exception occurred:\n",
                        "\u001b[31mGLError\u001b[39m                                   Traceback (most recent call last)",
                        "\u001b[36mFile \u001b[39m\u001b[32mc:\\Users\\AsherWebb\\Documents\\Git\\byu_robotics_hw\\.venv\\Lib\\site-packages\\pyqtgraph\\opengl\\GLViewWidget.py:210\u001b[39m, in \u001b[36mGLViewMixin.paintGL\u001b[39m\u001b[34m(self, region, viewport, useItemNames)\u001b[39m\n\u001b[32m    208\u001b[39m glClearColor(*bgcolor)\n\u001b[32m    209\u001b[39m glClear( GL_DEPTH_BUFFER_BIT | GL_COLOR_BUFFER_BIT )\n\u001b[32m--> \u001b[39m\u001b[32m210\u001b[39m \u001b[38;5;28;43mself\u001b[39;49m\u001b[43m.\u001b[49m\u001b[43mdrawItemTree\u001b[49m\u001b[43m(\u001b[49m\u001b[43museItemNames\u001b[49m\u001b[43m=\u001b[49m\u001b[43museItemNames\u001b[49m\u001b[43m)\u001b[49m\n",
                        "\u001b[36mFile \u001b[39m\u001b[32mc:\\Users\\AsherWebb\\Documents\\Git\\byu_robotics_hw\\.venv\\Lib\\site-packages\\pyqtgraph\\opengl\\GLViewWidget.py:244\u001b[39m, in \u001b[36mGLViewMixin.drawItemTree\u001b[39m\u001b[34m(self, item, useItemNames)\u001b[39m\n\u001b[32m    242\u001b[39m     \u001b[38;5;28mself\u001b[39m.drawItemTree(i, useItemNames=useItemNames)\n\u001b[32m    243\u001b[39m \u001b[38;5;28;01mfinally\u001b[39;00m:\n\u001b[32m--> \u001b[39m\u001b[32m244\u001b[39m     \u001b[43mglMatrixMode\u001b[49m\u001b[43m(\u001b[49m\u001b[43mGL_MODELVIEW\u001b[49m\u001b[43m)\u001b[49m\n\u001b[32m    245\u001b[39m     glPopMatrix()\n",
                        "\u001b[36mFile \u001b[39m\u001b[32mc:\\Users\\AsherWebb\\Documents\\Git\\byu_robotics_hw\\.venv\\Lib\\site-packages\\OpenGL\\error.py:230\u001b[39m, in \u001b[36m_ErrorChecker.glCheckError\u001b[39m\u001b[34m(self, result, baseOperation, cArguments, *args)\u001b[39m\n\u001b[32m    228\u001b[39m err = \u001b[38;5;28mself\u001b[39m._currentChecker()\n\u001b[32m    229\u001b[39m \u001b[38;5;28;01mif\u001b[39;00m err != \u001b[38;5;28mself\u001b[39m._noErrorResult:\n\u001b[32m--> \u001b[39m\u001b[32m230\u001b[39m     \u001b[38;5;28;01mraise\u001b[39;00m \u001b[38;5;28mself\u001b[39m._errorClass(\n\u001b[32m    231\u001b[39m         err,\n\u001b[32m    232\u001b[39m         result,\n\u001b[32m    233\u001b[39m         cArguments = cArguments,\n\u001b[32m    234\u001b[39m         baseOperation = baseOperation,\n\u001b[32m    235\u001b[39m     )\n\u001b[32m    236\u001b[39m \u001b[38;5;28;01mreturn\u001b[39;00m result\n",
                        "\u001b[31mGLError\u001b[39m: GLError(\n\terr = 1282,\n\tdescription = b'invalid operation',\n\tbaseOperation = glMatrixMode,\n\tcArguments = (GL_MODELVIEW,)\n)"
                    ]
                }
            ],
            "source": [
                "import time\n",
                "from visualization import VizScene \n",
                "#Problem 5\n",
                "R = tr.roty(np.pi/2) @ tr.rotx(np.pi/2)\n",
                "print(R)\n",
                "\n",
                "\n",
                "\n",
                "# now you can use functions like \"VizScene\" and \"add_frame\" \n",
                "# as demonstrated in HW 01 to animate a frame.  \n",
                "viz = VizScene()\n",
                "\n",
                "frame1 = np.eye(4)\n",
                "viz.add_frame(np.eye(4), label='world', axes_label='O')\n",
                "viz.add_frame(frame1, label='frame1', axes_label='1')\n",
                "time_to_run = 10\n",
                "refresh_rate = 30\n",
                "t = 0\n",
                "start = time.time()\n",
                "while t < time_to_run:\n",
                "    t = time.time() - start\n",
                "    \n",
                "    # R = tr.rotx(t)\n",
                "    # p = -1*R[2]\n",
                "\n",
                "    frame1[:3,:3] = R\n",
                "    frame1[:3,-1] = 1\n",
                "    viz.update(As=[np.eye(4), frame1])\n",
                "\n",
                "    viz.hold(1/refresh_rate)\n",
                "\n",
                "viz.close_viz()"
            ]
        },
        {
            "cell_type": "code",
            "execution_count": null,
            "metadata": {},
            "outputs": [
                {
                    "name": "stdout",
                    "output_type": "stream",
                    "text": [
                        "[[ 0.         0.8660254 -0.5      ]\n",
                        " [ 0.         0.5        0.8660254]\n",
                        " [ 1.         0.         0.       ]]\n"
                    ]
                }
            ],
            "source": [
                "#Problem 6\n",
                "R12 = np.array([[1,0,0],\n",
                "                [0, 0.5, -np.sqrt(3)/2],\n",
                "                [0, np.sqrt(3)/2, 0.5]])\n",
                "R13 = np.array([[0,0,-1],\n",
                "                [0,1,0],\n",
                "                [1,0,0]])\n",
                "R23 = R13 @ np.linalg.inv(R12)\n",
                "print(R23)"
            ]
        },
        {
            "cell_type": "code",
            "execution_count": 16,
            "metadata": {},
            "outputs": [
                {
                    "name": "stdout",
                    "output_type": "stream",
                    "text": [
                        "Answer: \n",
                        "[[-4.26642159e-17 -1.00000000e+00  0.00000000e+00]\n",
                        " [-1.00000000e+00 -4.26642159e-17  0.00000000e+00]\n",
                        " [ 0.00000000e+00  0.00000000e+00 -1.00000000e+00]]\n"
                    ]
                }
            ],
            "source": [
                "#Problem 7\n",
                "phi = np.pi/4\n",
                "theta = np.pi/2\n",
                "\n",
                "ans = tr.rotx(theta) @ tr.roty(phi) @ tr.rotz(np.pi) @ tr.roty(-phi) @ tr.rotx(-theta)\n",
                "print(\"Answer: \")\n",
                "print(ans)"
            ]
        },
        {
            "cell_type": "code",
            "execution_count": 17,
            "metadata": {},
            "outputs": [
                {
                    "name": "stdout",
                    "output_type": "stream",
                    "text": [
                        "[[-0.70710678 -0.70710678  0.        ]\n",
                        " [ 0.70710678 -0.70710678  0.        ]\n",
                        " [ 0.          0.          1.        ]]\n"
                    ]
                }
            ],
            "source": [
                "R = tr.rotz(np.pi/2) @ tr.rotz(0) @ tr.rotz(np.pi/4)\n",
                "print(R)"
            ]
        }
    ],
    "metadata": {
        "kernelspec": {
            "display_name": ".venv (3.12.10)",
            "language": "python",
            "name": "python3"
        },
        "language_info": {
            "codemirror_mode": {
                "name": "ipython",
                "version": 3
            },
            "file_extension": ".py",
            "mimetype": "text/x-python",
            "name": "python",
            "nbconvert_exporter": "python",
            "pygments_lexer": "ipython3",
            "version": "3.12.10"
        },
        "orig_nbformat": 4
    },
    "nbformat": 4,
    "nbformat_minor": 2
}
